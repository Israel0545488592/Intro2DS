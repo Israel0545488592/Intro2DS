{
 "cells": [
  {
   "cell_type": "code",
   "execution_count": 2,
   "metadata": {},
   "outputs": [],
   "source": [
    "#Final Assighnment Intro To Data-Science\n",
    "#Part-2: Python\n",
    "#Name: Israel Yaacobovich\n",
    "#ID: 212403679"
   ]
  },
  {
   "cell_type": "code",
   "execution_count": 3,
   "metadata": {},
   "outputs": [],
   "source": [
    "#1"
   ]
  },
  {
   "cell_type": "code",
   "execution_count": 4,
   "metadata": {},
   "outputs": [],
   "source": [
    "def conver(n):\n",
    "    a = n\n",
    "    \n",
    "    digits = ['0','1','2','3','4','5','6','7','8','9','A','B','C','D','E','F']\n",
    "    bin = \"\"\n",
    "    while n > 0:\n",
    "        bin = digits[n%2] + bin\n",
    "        n //= 2\n",
    "    n = a    \n",
    "    \n",
    "    oct = \"\"\n",
    "    while n > 0:\n",
    "        oct = digits[n%8] + oct\n",
    "        n //= 8\n",
    "    n = a    \n",
    "    \n",
    "    hex = \"\"\n",
    "    while n > 0:\n",
    "        hex = digits[n%16] + hex\n",
    "        n //= 16\n",
    "        \n",
    "    print(\"bace2: \" + bin)    \n",
    "    print(\"bace8: \" + oct)\n",
    "    print(\"bace16: \" + hex)"
   ]
  },
  {
   "cell_type": "code",
   "execution_count": 5,
   "metadata": {},
   "outputs": [
    {
     "name": "stdout",
     "output_type": "stream",
     "text": [
      "bace2: 1010\n",
      "bace8: 12\n",
      "bace16: A\n"
     ]
    }
   ],
   "source": [
    "conver(10)"
   ]
  },
  {
   "cell_type": "code",
   "execution_count": 6,
   "metadata": {},
   "outputs": [],
   "source": [
    "#2"
   ]
  },
  {
   "cell_type": "code",
   "execution_count": 7,
   "metadata": {},
   "outputs": [
    {
     "data": {
      "text/html": [
       "<div>\n",
       "<style scoped>\n",
       "    .dataframe tbody tr th:only-of-type {\n",
       "        vertical-align: middle;\n",
       "    }\n",
       "\n",
       "    .dataframe tbody tr th {\n",
       "        vertical-align: top;\n",
       "    }\n",
       "\n",
       "    .dataframe thead th {\n",
       "        text-align: right;\n",
       "    }\n",
       "</style>\n",
       "<table border=\"1\" class=\"dataframe\">\n",
       "  <thead>\n",
       "    <tr style=\"text-align: right;\">\n",
       "      <th></th>\n",
       "      <th>title</th>\n",
       "      <th>year</th>\n",
       "      <th>name</th>\n",
       "      <th>type</th>\n",
       "      <th>character</th>\n",
       "      <th>n</th>\n",
       "    </tr>\n",
       "  </thead>\n",
       "  <tbody>\n",
       "    <tr>\n",
       "      <th>0</th>\n",
       "      <td>Suuri illusioni</td>\n",
       "      <td>1985</td>\n",
       "      <td>Homo $</td>\n",
       "      <td>actor</td>\n",
       "      <td>Guests</td>\n",
       "      <td>22.0</td>\n",
       "    </tr>\n",
       "    <tr>\n",
       "      <th>1</th>\n",
       "      <td>Gangsta Rap: The Glockumentary</td>\n",
       "      <td>2007</td>\n",
       "      <td>Too $hort</td>\n",
       "      <td>actor</td>\n",
       "      <td>Himself</td>\n",
       "      <td>NaN</td>\n",
       "    </tr>\n",
       "    <tr>\n",
       "      <th>2</th>\n",
       "      <td>Menace II Society</td>\n",
       "      <td>1993</td>\n",
       "      <td>Too $hort</td>\n",
       "      <td>actor</td>\n",
       "      <td>Lew-Loc</td>\n",
       "      <td>27.0</td>\n",
       "    </tr>\n",
       "    <tr>\n",
       "      <th>3</th>\n",
       "      <td>Porndogs: The Adventures of Sadie</td>\n",
       "      <td>2009</td>\n",
       "      <td>Too $hort</td>\n",
       "      <td>actor</td>\n",
       "      <td>Bosco</td>\n",
       "      <td>3.0</td>\n",
       "    </tr>\n",
       "    <tr>\n",
       "      <th>4</th>\n",
       "      <td>Stop Pepper Palmer</td>\n",
       "      <td>2014</td>\n",
       "      <td>Too $hort</td>\n",
       "      <td>actor</td>\n",
       "      <td>Himself</td>\n",
       "      <td>NaN</td>\n",
       "    </tr>\n",
       "  </tbody>\n",
       "</table>\n",
       "</div>"
      ],
      "text/plain": [
       "                               title  year       name   type character     n\n",
       "0                    Suuri illusioni  1985     Homo $  actor    Guests  22.0\n",
       "1     Gangsta Rap: The Glockumentary  2007  Too $hort  actor   Himself   NaN\n",
       "2                  Menace II Society  1993  Too $hort  actor   Lew-Loc  27.0\n",
       "3  Porndogs: The Adventures of Sadie  2009  Too $hort  actor     Bosco   3.0\n",
       "4                 Stop Pepper Palmer  2014  Too $hort  actor   Himself   NaN"
      ]
     },
     "execution_count": 7,
     "metadata": {},
     "output_type": "execute_result"
    }
   ],
   "source": [
    "import pandas as pd\n",
    "df = pd.read_csv('C:/Users/ישראל/DS/cast_dataset.csv')\n",
    "df.head()"
   ]
  },
  {
   "cell_type": "code",
   "execution_count": 8,
   "metadata": {},
   "outputs": [
    {
     "name": "stdout",
     "output_type": "stream",
     "text": [
      "<class 'pandas.core.frame.DataFrame'>\n",
      "RangeIndex: 3333695 entries, 0 to 3333694\n",
      "Data columns (total 6 columns):\n",
      " #   Column     Dtype  \n",
      "---  ------     -----  \n",
      " 0   title      object \n",
      " 1   year       int64  \n",
      " 2   name       object \n",
      " 3   type       object \n",
      " 4   character  object \n",
      " 5   n          float64\n",
      "dtypes: float64(1), int64(1), object(4)\n",
      "memory usage: 152.6+ MB\n"
     ]
    }
   ],
   "source": [
    "df.info()"
   ]
  },
  {
   "cell_type": "code",
   "execution_count": 9,
   "metadata": {},
   "outputs": [
    {
     "data": {
      "text/plain": [
       "17"
      ]
     },
     "execution_count": 9,
     "metadata": {},
     "output_type": "execute_result"
    }
   ],
   "source": [
    "#Theier is a row for wach actor that played in the movie, so I got read of duplicates\n",
    "df_single = df.drop_duplicates(['title', 'year'])\n",
    "\n",
    "df_Hamlet = df_single.title == 'Hamlet'\n",
    "\n",
    "df_Hamlet.sum()"
   ]
  },
  {
   "cell_type": "code",
   "execution_count": 10,
   "metadata": {},
   "outputs": [],
   "source": [
    "#3"
   ]
  },
  {
   "cell_type": "code",
   "execution_count": 11,
   "metadata": {},
   "outputs": [
    {
     "data": {
      "text/html": [
       "<div>\n",
       "<style scoped>\n",
       "    .dataframe tbody tr th:only-of-type {\n",
       "        vertical-align: middle;\n",
       "    }\n",
       "\n",
       "    .dataframe tbody tr th {\n",
       "        vertical-align: top;\n",
       "    }\n",
       "\n",
       "    .dataframe thead th {\n",
       "        text-align: right;\n",
       "    }\n",
       "</style>\n",
       "<table border=\"1\" class=\"dataframe\">\n",
       "  <thead>\n",
       "    <tr style=\"text-align: right;\">\n",
       "      <th></th>\n",
       "      <th>title</th>\n",
       "      <th>year</th>\n",
       "      <th>name</th>\n",
       "      <th>type</th>\n",
       "      <th>character</th>\n",
       "      <th>n</th>\n",
       "    </tr>\n",
       "  </thead>\n",
       "  <tbody>\n",
       "    <tr>\n",
       "      <th>313097</th>\n",
       "      <td>Treasure Island</td>\n",
       "      <td>1918</td>\n",
       "      <td>Francis Carpenter</td>\n",
       "      <td>actor</td>\n",
       "      <td>Jim Hawkins</td>\n",
       "      <td>1.0</td>\n",
       "    </tr>\n",
       "    <tr>\n",
       "      <th>345942</th>\n",
       "      <td>Treasure Island</td>\n",
       "      <td>1920</td>\n",
       "      <td>Lon Chaney</td>\n",
       "      <td>actor</td>\n",
       "      <td>Blind Pew</td>\n",
       "      <td>5.0</td>\n",
       "    </tr>\n",
       "    <tr>\n",
       "      <th>8570</th>\n",
       "      <td>Treasure Island</td>\n",
       "      <td>1934</td>\n",
       "      <td>Robert Adair</td>\n",
       "      <td>actor</td>\n",
       "      <td>Tom - Seaman</td>\n",
       "      <td>NaN</td>\n",
       "    </tr>\n",
       "    <tr>\n",
       "      <th>12141</th>\n",
       "      <td>Treasure Island</td>\n",
       "      <td>1950</td>\n",
       "      <td>Chris Adcock</td>\n",
       "      <td>actor</td>\n",
       "      <td>Pike</td>\n",
       "      <td>26.0</td>\n",
       "    </tr>\n",
       "    <tr>\n",
       "      <th>38151</th>\n",
       "      <td>Treasure Island</td>\n",
       "      <td>1972</td>\n",
       "      <td>Cristino Almod?var</td>\n",
       "      <td>actor</td>\n",
       "      <td>O'Brien</td>\n",
       "      <td>18.0</td>\n",
       "    </tr>\n",
       "    <tr>\n",
       "      <th>484325</th>\n",
       "      <td>Treasure Island</td>\n",
       "      <td>1973</td>\n",
       "      <td>Richard Dawson</td>\n",
       "      <td>actor</td>\n",
       "      <td>Long John Silver</td>\n",
       "      <td>1.0</td>\n",
       "    </tr>\n",
       "    <tr>\n",
       "      <th>14899</th>\n",
       "      <td>Treasure Island</td>\n",
       "      <td>1985</td>\n",
       "      <td>Yves Afonso</td>\n",
       "      <td>actor</td>\n",
       "      <td>French captain</td>\n",
       "      <td>8.0</td>\n",
       "    </tr>\n",
       "    <tr>\n",
       "      <th>104905</th>\n",
       "      <td>Treasure Island</td>\n",
       "      <td>1999</td>\n",
       "      <td>Lance (II) Baker</td>\n",
       "      <td>actor</td>\n",
       "      <td>Frank</td>\n",
       "      <td>1.0</td>\n",
       "    </tr>\n",
       "  </tbody>\n",
       "</table>\n",
       "</div>"
      ],
      "text/plain": [
       "                  title  year                name   type         character  \\\n",
       "313097  Treasure Island  1918   Francis Carpenter  actor       Jim Hawkins   \n",
       "345942  Treasure Island  1920          Lon Chaney  actor        Blind Pew    \n",
       "8570    Treasure Island  1934        Robert Adair  actor      Tom - Seaman   \n",
       "12141   Treasure Island  1950        Chris Adcock  actor              Pike   \n",
       "38151   Treasure Island  1972  Cristino Almod?var  actor           O'Brien   \n",
       "484325  Treasure Island  1973      Richard Dawson  actor  Long John Silver   \n",
       "14899   Treasure Island  1985         Yves Afonso  actor    French captain   \n",
       "104905  Treasure Island  1999    Lance (II) Baker  actor             Frank   \n",
       "\n",
       "           n  \n",
       "313097   1.0  \n",
       "345942   5.0  \n",
       "8570     NaN  \n",
       "12141   26.0  \n",
       "38151   18.0  \n",
       "484325   1.0  \n",
       "14899    8.0  \n",
       "104905   1.0  "
      ]
     },
     "execution_count": 11,
     "metadata": {},
     "output_type": "execute_result"
    }
   ],
   "source": [
    "df_Treasure_Island = df_single.loc[df_single['title'] == 'Treasure Island']\n",
    "\n",
    "df_Treasure_Island.sort_values('year')"
   ]
  },
  {
   "cell_type": "code",
   "execution_count": 12,
   "metadata": {},
   "outputs": [],
   "source": [
    "#4"
   ]
  },
  {
   "cell_type": "code",
   "execution_count": 13,
   "metadata": {},
   "outputs": [
    {
     "data": {
      "text/plain": [
       "9"
      ]
     },
     "execution_count": 13,
     "metadata": {},
     "output_type": "execute_result"
    }
   ],
   "source": [
    "df_Hamlet_actors = df.loc[df['title'] == 'Hamlet']\n",
    "\n",
    "Hamlet_actors_1921 = df_Hamlet_actors.loc[df_Hamlet_actors['year'] == 1921]\n",
    "\n",
    "len(Hamlet_actors_1921.index)           "
   ]
  },
  {
   "cell_type": "code",
   "execution_count": 14,
   "metadata": {},
   "outputs": [],
   "source": [
    "#5"
   ]
  },
  {
   "cell_type": "code",
   "execution_count": 26,
   "metadata": {},
   "outputs": [],
   "source": [
    "# making a 'decade' column\n",
    "df['decade'] = (df['year']//10)*10\n",
    "\n",
    "#Apdating\n",
    "df_single = df.drop_duplicates(['title', 'year'])\n",
    "\n",
    "df_Hamlet = df_single.loc[df_single['title']  == 'Hamlet']"
   ]
  },
  {
   "cell_type": "code",
   "execution_count": 28,
   "metadata": {},
   "outputs": [
    {
     "data": {
      "text/plain": [
       "decade\n",
       "1910    3\n",
       "1920    1\n",
       "1940    1\n",
       "1950    1\n",
       "1960    2\n",
       "1970    2\n",
       "1980    1\n",
       "1990    2\n",
       "2000    2\n",
       "2010    2\n",
       "Name: title, dtype: int64"
      ]
     },
     "execution_count": 28,
     "metadata": {},
     "output_type": "execute_result"
    }
   ],
   "source": [
    "g = df_Hamlet.groupby('decade')\n",
    "\n",
    "g.count().title"
   ]
  },
  {
   "cell_type": "code",
   "execution_count": 170,
   "metadata": {},
   "outputs": [],
   "source": [
    "#6"
   ]
  },
  {
   "cell_type": "code",
   "execution_count": 31,
   "metadata": {},
   "outputs": [],
   "source": [
    "df_leading_roles = df.loc[df['n'] == 1]\n",
    "\n",
    "leading_actors = df_leading_roles.loc[df_leading_roles['type'] == 'actor']\n",
    "leading_actresses = df_leading_roles.loc[df_leading_roles['type'] == 'actress']\n",
    "\n",
    "g1 = leading_actors.groupby('decade').get_group(1950).groupby('year')\n",
    "g2 = leading_actresses.groupby('decade').get_group(1950).groupby('year')"
   ]
  },
  {
   "cell_type": "code",
   "execution_count": 32,
   "metadata": {},
   "outputs": [
    {
     "name": "stdout",
     "output_type": "stream",
     "text": [
      "for actors: \n"
     ]
    },
    {
     "data": {
      "text/plain": [
       "year\n",
       "1950    604\n",
       "1951    633\n",
       "1952    591\n",
       "1953    634\n",
       "1954    626\n",
       "1955    606\n",
       "1956    614\n",
       "1957    708\n",
       "1958    694\n",
       "1959    678\n",
       "Name: title, dtype: int64"
      ]
     },
     "execution_count": 32,
     "metadata": {},
     "output_type": "execute_result"
    }
   ],
   "source": [
    "print(\"for actors: \")\n",
    "g1.count().title"
   ]
  },
  {
   "cell_type": "code",
   "execution_count": 33,
   "metadata": {},
   "outputs": [
    {
     "name": "stdout",
     "output_type": "stream",
     "text": [
      "for actresses: \n"
     ]
    },
    {
     "data": {
      "text/plain": [
       "year\n",
       "1950    271\n",
       "1951    272\n",
       "1952    284\n",
       "1953    290\n",
       "1954    298\n",
       "1955    264\n",
       "1956    288\n",
       "1957    284\n",
       "1958    275\n",
       "1959    287\n",
       "Name: title, dtype: int64"
      ]
     },
     "execution_count": 33,
     "metadata": {},
     "output_type": "execute_result"
    }
   ],
   "source": [
    "print(\"for actresses: \")\n",
    "g2.count().title"
   ]
  },
  {
   "cell_type": "code",
   "execution_count": 212,
   "metadata": {},
   "outputs": [],
   "source": [
    "#7"
   ]
  },
  {
   "cell_type": "code",
   "execution_count": 35,
   "metadata": {},
   "outputs": [
    {
     "data": {
      "text/plain": [
       "Index([''Chiyaan' Vikram', ''Cowboy' Matt Hopewell',\n",
       "       ''Pook Diesel' Paul Watson', ''University' Jeevan', '2Meka Diaz',\n",
       "       '50 Cent', '?caro Silva', '?ce Mrozek', '?d?m Lux',\n",
       "       '?dgar (II) Ram?rez'],\n",
       "      dtype='object', name='name')"
      ]
     },
     "execution_count": 35,
     "metadata": {},
     "output_type": "execute_result"
    }
   ],
   "source": [
    "df_leading_roles_since_1990 = df_leading_roles.loc[df_leading_roles['year'] >= 1990]\n",
    "\n",
    "g3 = df_leading_roles_since_1990.groupby('name')\n",
    "\n",
    "g3.max().head(10).index"
   ]
  },
  {
   "cell_type": "code",
   "execution_count": 224,
   "metadata": {},
   "outputs": [],
   "source": [
    "#8"
   ]
  },
  {
   "cell_type": "code",
   "execution_count": 36,
   "metadata": {},
   "outputs": [
    {
     "data": {
      "text/plain": [
       "Int64Index([1979, 1980, 1981, 1982, 1983, 1984, 1985, 1992, 1996, 1999, 2005], dtype='int64', name='year')"
      ]
     },
     "execution_count": 36,
     "metadata": {},
     "output_type": "execute_result"
    }
   ],
   "source": [
    "q = df.loc[df['name'] == \"Frank Oz\"].groupby('year').count()\n",
    "q.loc[q['title'] > 1].index"
   ]
  },
  {
   "cell_type": "code",
   "execution_count": null,
   "metadata": {},
   "outputs": [],
   "source": []
  },
  {
   "cell_type": "code",
   "execution_count": null,
   "metadata": {},
   "outputs": [],
   "source": []
  }
 ],
 "metadata": {
  "kernelspec": {
   "display_name": "Python 3",
   "language": "python",
   "name": "python3"
  },
  "language_info": {
   "codemirror_mode": {
    "name": "ipython",
    "version": 3
   },
   "file_extension": ".py",
   "mimetype": "text/x-python",
   "name": "python",
   "nbconvert_exporter": "python",
   "pygments_lexer": "ipython3",
   "version": "3.8.3"
  }
 },
 "nbformat": 4,
 "nbformat_minor": 4
}
